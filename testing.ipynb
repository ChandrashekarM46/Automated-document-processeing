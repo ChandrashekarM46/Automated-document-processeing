{
 "cells": [
  {
   "cell_type": "code",
   "execution_count": 63,
   "metadata": {},
   "outputs": [],
   "source": [
    "import pytesseract\n",
    "from tqdm.auto import tqdm\n",
    "import os\n",
    "import numpy as np\n",
    "import chromadb\n",
    "from sentence_transformers import SentenceTransformer\n",
    "import pinecone"
   ]
  },
  {
   "cell_type": "code",
   "execution_count": 67,
   "metadata": {},
   "outputs": [],
   "source": [
    "pinecone.init(api_key = \"b60565d6-28e0-41c4-9be4-a77fd78d892c\",environment = \"us-west1-gcp-free\")"
   ]
  },
  {
   "cell_type": "code",
   "execution_count": 45,
   "metadata": {},
   "outputs": [],
   "source": [
    "dir_name = 'docs-sm'"
   ]
  },
  {
   "cell_type": "code",
   "execution_count": 99,
   "metadata": {},
   "outputs": [],
   "source": [
    "files_path=[]\n",
    "for dir in os.listdir(\"docs-sm/\"):\n",
    "    \n",
    "    for idx,subdir in enumerate(os.listdir(os.path.join(dir_name,dir))):\n",
    "        files_path.append(os.path.join(os.path.join(dir_name,dir),subdir))\n",
    "        idx+=1\n",
    "        if idx==100:\n",
    "            break"
   ]
  },
  {
   "attachments": {},
   "cell_type": "markdown",
   "metadata": {},
   "source": [
    "10 docs extracted"
   ]
  },
  {
   "cell_type": "code",
   "execution_count": 100,
   "metadata": {},
   "outputs": [],
   "source": [
    "pytesseract.pytesseract.tesseract_cmd = r'C:\\Program Files\\Tesseract-OCR\\tesseract.exe'"
   ]
  },
  {
   "cell_type": "code",
   "execution_count": 101,
   "metadata": {},
   "outputs": [
    {
     "name": "stderr",
     "output_type": "stream",
     "text": [
      "100%|██████████| 1600/1600 [15:02<00:00,  1.77it/s]\n"
     ]
    }
   ],
   "source": [
    "ocr_texts=[]\n",
    "for image in tqdm(files_path):\n",
    "    text = pytesseract.image_to_string(image)\n",
    "    ocr_texts.append(text)"
   ]
  },
  {
   "cell_type": "code",
   "execution_count": 83,
   "metadata": {},
   "outputs": [
    {
     "data": {
      "text/html": [
       "<div>\n",
       "<style scoped>\n",
       "    .dataframe tbody tr th:only-of-type {\n",
       "        vertical-align: middle;\n",
       "    }\n",
       "\n",
       "    .dataframe tbody tr th {\n",
       "        vertical-align: top;\n",
       "    }\n",
       "\n",
       "    .dataframe thead th {\n",
       "        text-align: right;\n",
       "    }\n",
       "</style>\n",
       "<table border=\"1\" class=\"dataframe\">\n",
       "  <thead>\n",
       "    <tr style=\"text-align: right;\">\n",
       "      <th></th>\n",
       "      <th>OCR Text</th>\n",
       "    </tr>\n",
       "  </thead>\n",
       "  <tbody>\n",
       "    <tr>\n",
       "      <th>0</th>\n",
       "      <td></td>\n",
       "    </tr>\n",
       "    <tr>\n",
       "      <th>1</th>\n",
       "      <td>stone coviow: sie\\n\\nUANN-ERICKSON RESP EP\\n\\n...</td>\n",
       "    </tr>\n",
       "    <tr>\n",
       "      <th>2</th>\n",
       "      <td>E\\n_ VANTAGE VANTAGE\\n\\nSEossotes |\\n</td>\n",
       "    </tr>\n",
       "    <tr>\n",
       "      <th>3</th>\n",
       "      <td>57% of Winston smokers\\nfind clean tasting Fac...</td>\n",
       "    </tr>\n",
       "    <tr>\n",
       "      <th>4</th>\n",
       "      <td>Ls latest US. Government figures\\n\\n-\"PALLMATL...</td>\n",
       "    </tr>\n",
       "  </tbody>\n",
       "</table>\n",
       "</div>"
      ],
      "text/plain": [
       "                                            OCR Text\n",
       "0                                                   \n",
       "1  stone coviow: sie\\n\\nUANN-ERICKSON RESP EP\\n\\n...\n",
       "2              E\\n_ VANTAGE VANTAGE\\n\\nSEossotes |\\n\n",
       "3  57% of Winston smokers\\nfind clean tasting Fac...\n",
       "4  Ls latest US. Government figures\\n\\n-\"PALLMATL..."
      ]
     },
     "execution_count": 83,
     "metadata": {},
     "output_type": "execute_result"
    }
   ],
   "source": [
    "import pandas as pd\n",
    "df = pd.DataFrame({'OCR Text': ocr_texts})\n",
    "df.head()"
   ]
  },
  {
   "cell_type": "code",
   "execution_count": 84,
   "metadata": {},
   "outputs": [],
   "source": [
    "df['File Path'] =files_path"
   ]
  },
  {
   "cell_type": "code",
   "execution_count": 85,
   "metadata": {},
   "outputs": [],
   "source": [
    "df['File Category']= df['File Path'].apply(lambda x:x.split(\"\\\\\")[1])"
   ]
  },
  {
   "cell_type": "code",
   "execution_count": 86,
   "metadata": {},
   "outputs": [],
   "source": [
    "df['OCR Text'] = df['OCR Text'].replace(\"\",np.nan)\n"
   ]
  },
  {
   "cell_type": "code",
   "execution_count": 87,
   "metadata": {},
   "outputs": [],
   "source": [
    "df.dropna(inplace=True)"
   ]
  },
  {
   "cell_type": "code",
   "execution_count": 88,
   "metadata": {},
   "outputs": [],
   "source": [
    "df.drop(['File Path'],inplace=True,axis=1)"
   ]
  },
  {
   "cell_type": "code",
   "execution_count": 89,
   "metadata": {},
   "outputs": [],
   "source": [
    "model = SentenceTransformer('all-MiniLM-L6-v2')"
   ]
  },
  {
   "cell_type": "code",
   "execution_count": 90,
   "metadata": {},
   "outputs": [
    {
     "data": {
      "text/html": [
       "<div>\n",
       "<style scoped>\n",
       "    .dataframe tbody tr th:only-of-type {\n",
       "        vertical-align: middle;\n",
       "    }\n",
       "\n",
       "    .dataframe tbody tr th {\n",
       "        vertical-align: top;\n",
       "    }\n",
       "\n",
       "    .dataframe thead th {\n",
       "        text-align: right;\n",
       "    }\n",
       "</style>\n",
       "<table border=\"1\" class=\"dataframe\">\n",
       "  <thead>\n",
       "    <tr style=\"text-align: right;\">\n",
       "      <th></th>\n",
       "      <th>OCR Text</th>\n",
       "      <th>File Category</th>\n",
       "    </tr>\n",
       "  </thead>\n",
       "  <tbody>\n",
       "    <tr>\n",
       "      <th>1</th>\n",
       "      <td>stone coviow: sie\\n\\nUANN-ERICKSON RESP EP\\n\\n...</td>\n",
       "      <td>advertisement</td>\n",
       "    </tr>\n",
       "    <tr>\n",
       "      <th>2</th>\n",
       "      <td>E\\n_ VANTAGE VANTAGE\\n\\nSEossotes |\\n</td>\n",
       "      <td>advertisement</td>\n",
       "    </tr>\n",
       "    <tr>\n",
       "      <th>3</th>\n",
       "      <td>57% of Winston smokers\\nfind clean tasting Fac...</td>\n",
       "      <td>advertisement</td>\n",
       "    </tr>\n",
       "    <tr>\n",
       "      <th>4</th>\n",
       "      <td>Ls latest US. Government figures\\n\\n-\"PALLMATL...</td>\n",
       "      <td>advertisement</td>\n",
       "    </tr>\n",
       "    <tr>\n",
       "      <th>5</th>\n",
       "      <td>Fee}\\nDd\\n=\\n=\\niS\\nka\\nrs\\nzZ\\nEd\\n\\n</td>\n",
       "      <td>advertisement</td>\n",
       "    </tr>\n",
       "    <tr>\n",
       "      <th>...</th>\n",
       "      <td>...</td>\n",
       "      <td>...</td>\n",
       "    </tr>\n",
       "    <tr>\n",
       "      <th>315</th>\n",
       "      <td>|THE Ae som\\nAMERICAN PRODUCTION SPECIFICATION...</td>\n",
       "      <td>specification</td>\n",
       "    </tr>\n",
       "    <tr>\n",
       "      <th>316</th>\n",
       "      <td>PRODUCTION SPE\\n\\nIFICATIONS\\n\\n10F2\\nCONFIDEN...</td>\n",
       "      <td>specification</td>\n",
       "    </tr>\n",
       "    <tr>\n",
       "      <th>317</th>\n",
       "      <td>SPECIFICATION CHANGE PROPOSAL NO. 90 - 184\\nBR...</td>\n",
       "      <td>specification</td>\n",
       "    </tr>\n",
       "    <tr>\n",
       "      <th>318</th>\n",
       "      <td>csssent) aoe &amp; WILL HNsoN Toon comPoRATION ee ...</td>\n",
       "      <td>specification</td>\n",
       "    </tr>\n",
       "    <tr>\n",
       "      <th>319</th>\n",
       "      <td>SULCFIEALLNSrSREE Cast AS ANUS\\n\\nwe +P. BE. A...</td>\n",
       "      <td>specification</td>\n",
       "    </tr>\n",
       "  </tbody>\n",
       "</table>\n",
       "<p>300 rows × 2 columns</p>\n",
       "</div>"
      ],
      "text/plain": [
       "                                              OCR Text  File Category\n",
       "1    stone coviow: sie\\n\\nUANN-ERICKSON RESP EP\\n\\n...  advertisement\n",
       "2                E\\n_ VANTAGE VANTAGE\\n\\nSEossotes |\\n  advertisement\n",
       "3    57% of Winston smokers\\nfind clean tasting Fac...  advertisement\n",
       "4    Ls latest US. Government figures\\n\\n-\"PALLMATL...  advertisement\n",
       "5               Fee}\\nDd\\n=\\n=\\niS\\nka\\nrs\\nzZ\\nEd\\n\\n  advertisement\n",
       "..                                                 ...            ...\n",
       "315  |THE Ae som\\nAMERICAN PRODUCTION SPECIFICATION...  specification\n",
       "316  PRODUCTION SPE\\n\\nIFICATIONS\\n\\n10F2\\nCONFIDEN...  specification\n",
       "317  SPECIFICATION CHANGE PROPOSAL NO. 90 - 184\\nBR...  specification\n",
       "318  csssent) aoe & WILL HNsoN Toon comPoRATION ee ...  specification\n",
       "319  SULCFIEALLNSrSREE Cast AS ANUS\\n\\nwe +P. BE. A...  specification\n",
       "\n",
       "[300 rows x 2 columns]"
      ]
     },
     "execution_count": 90,
     "metadata": {},
     "output_type": "execute_result"
    }
   ],
   "source": [
    "db_text=list(df['OCR Text'].values)\n",
    "category = list(df['File Category'].values)\n",
    "df"
   ]
  },
  {
   "cell_type": "code",
   "execution_count": 94,
   "metadata": {},
   "outputs": [
    {
     "name": "stdout",
     "output_type": "stream",
     "text": [
      "[0.05048312619328499, 0.08800595253705978, 0.0048748827539384365, 0.03626894950866699, -0.0010181255638599396, 0.019153712317347527, 0.014231867156922817, -0.018786577507853508, 0.08152502030134201, 0.03721952065825462, 0.07041557133197784, -0.058707378804683685, -0.016879601404070854, -0.006291268393397331, -0.006761717610061169, 0.016697537153959274, 0.048855971544981, -0.019675064831972122, -0.0874321386218071, -0.004071816336363554, -0.02663280814886093, 0.0924726352095604, -0.004529280122369528, 0.00046385181485675275, -0.015113696455955505, 0.009122522547841072, -0.0432257205247879, 0.06419794261455536, 0.06789980828762054, -0.020825596526265144, -0.05017518624663353, -0.011976719833910465, 0.07046797126531601, 0.047732237726449966, 0.02371334098279476, -0.013724074698984623, -0.005713066551834345, 0.0422920323908329, 0.013804353773593903, -0.012826891615986824, 0.01073297206312418, -0.038728512823581696, 0.017663301900029182, 0.0045972419902682304, 0.009400886483490467, -0.00647609680891037, -0.012173689901828766, -0.014917087741196156, 0.003766472451388836, 0.00678842980414629, -0.11023170500993729, -0.08560658246278763, -0.03188229724764824, -0.044356223195791245, 0.007689161226153374, 0.05648462101817131, 0.051926519721746445, 0.02531484328210354, 0.04837418347597122, -0.0026516737416386604, -0.002376198535785079, -0.008660776540637016, -0.08949372172355652, 0.025110140442848206, 0.14981648325920105, 0.04853347688913345, -0.009160632267594337, -0.05520475283265114, -0.04209844022989273, -0.002889243420213461, -0.003652844112366438, 0.022840911522507668, -0.016306402161717415, -0.0070925368927419186, -0.07294220477342606, -0.020747149363160133, 0.008661767467856407, -0.10101713240146637, 0.13727429509162903, 0.12286784499883652, -0.06944485753774643, -0.09591428190469742, 0.007190363947302103, 0.05589321255683899, -0.007535219192504883, -0.048115164041519165, 0.06525591760873795, -0.13085684180259705, -0.033178817480802536, 0.0003041471936739981, 0.020972099155187607, -0.08693234622478485, 0.043109674006700516, 0.027098316699266434, -0.049319688230752945, -0.04176480695605278, -0.07121776044368744, 0.0045164055190980434, -0.014636218547821045, 0.15715987980365753, -0.01174006424844265, 0.02997082844376564, 0.03571616858243942, 0.04364752024412155, 0.02392091602087021, -0.1278512179851532, -0.047277580946683884, -0.006623139604926109, 0.00727516645565629, -0.046680063009262085, -0.0248455461114645, -0.016357794404029846, 0.04898151382803917, 0.01918870210647583, 0.02088206633925438, -0.014544674195349216, -0.05214802548289299, 0.003679003333672881, -0.005276371259242296, 0.012661918066442013, 0.015140648931264877, 0.07485532760620117, -0.032332658767700195, 0.023952612653374672, -0.07045003771781921, -0.11020492762327194, 0.005681243259459734, -5.733207740538834e-33, 0.0013931415742263198, -0.03600288927555084, -0.015467336401343346, 0.021982314065098763, -0.016143128275871277, 0.009657371789216995, -0.021597642451524734, 0.012410037219524384, -0.05256124213337898, -0.06882535666227341, -0.0888739675283432, -0.051766179502010345, 0.017326291650533676, -0.014202306047081947, 0.14264053106307983, 0.0746336504817009, -0.028196124359965324, 0.10334514081478119, -0.00997899193316698, 0.06435086578130722, -0.04514904320240021, 0.02360249124467373, -0.004220029339194298, -0.046601489186286926, -0.02944895625114441, -0.10351714491844177, -0.002136548049747944, 0.03694669529795647, -0.031223487108945847, 0.04236716032028198, 0.01917477883398533, 0.074396051466465, 0.02204013802111149, -0.043513223528862, -0.0023132541682571173, -0.02357601188123226, 0.03529106453061104, -0.05396055430173874, 0.014950137585401535, 0.03008011355996132, -0.05941086634993553, -0.027129432186484337, -0.025813907384872437, -0.04510940611362457, 0.016460612416267395, 0.09204704314470291, 0.06617159396409988, 0.0009305887506343424, -0.010508243925869465, -0.0027344634290784597, -0.012945150956511497, -0.0015047799097374082, 0.006501821801066399, -0.007519381586462259, 0.05886182188987732, 0.05006704479455948, 0.007392123341560364, 0.013668480329215527, 0.04556464031338692, 0.018785202875733376, 0.038700345903635025, 0.0636330395936966, -0.08086200058460236, -0.012039204128086567, -0.00908585637807846, 0.0035275861155241728, 0.021639442071318626, 0.00285431370139122, 0.059941865503787994, -0.020069340243935585, -0.04384884238243103, -0.07840956747531891, 0.0127116022631526, 0.0720900297164917, -0.031091684475541115, -0.027146214619278908, 0.07834333181381226, 0.03892544284462929, -0.03181024268269539, 0.07951918244361877, -0.0198683924973011, -0.12449783086776733, 0.008983991108834743, 0.024569110944867134, -0.037193700671195984, -0.02819669060409069, -0.033082760870456696, -0.06803023815155029, -0.028592808172106743, 0.047916900366544724, -0.006043423432856798, -0.001538620563223958, 0.06452745199203491, -0.016330061480402946, 0.008043265901505947, 2.1475308333263918e-33, -0.059226956218481064, 0.040499329566955566, -0.057815343141555786, 0.03380119428038597, 0.09631503373384476, -0.06839773803949356, -0.002768438309431076, -0.025603797286748886, 0.021807143464684486, 0.14710824191570282, -0.10795444250106812, 0.03840881213545799, 0.06666766107082367, 0.012515995651483536, 0.08112899214029312, 0.03448795899748802, 0.10053407400846481, 0.024662841111421585, -0.010055647231638432, 0.002217053435742855, -0.041482456028461456, 0.09008985012769699, 0.0018521732417866588, 0.0931568294763565, -0.02136489935219288, 0.02866106666624546, 0.027197137475013733, -0.06778575479984283, -0.10680519789457321, 0.030011769384145737, -0.011506550014019012, -0.09267925471067429, -0.05256781727075577, -0.03850386291742325, 0.014668828807771206, 0.015611524693667889, 0.02784786745905876, 0.0002078219986287877, -0.08553258329629898, 0.07176920026540756, 0.01334644015878439, -0.017661843448877335, 0.00861053541302681, 0.07521317899227142, 0.03391648456454277, -0.052069127559661865, -0.05565885454416275, -0.06368131190538406, 0.014208531938493252, 0.07002024352550507, -0.042247552424669266, 0.03929318115115166, 0.014914290979504585, 0.002550668315961957, -0.08228094130754471, 0.04896172881126404, -0.006548707839101553, -0.07712087035179138, -0.0056923506781458855, -0.018590517342090607, -0.06951027363538742, 0.03653882071375847, -0.08459803462028503, 0.043017640709877014, 0.09330219775438309, -0.05059921741485596, -0.043071068823337555, 0.06530942767858505, 0.03334061801433563, -0.06169305369257927, 0.08862337470054626, 0.03646484762430191, -0.16911959648132324, -0.007540814578533173, -0.06054222211241722, -0.11273939162492752, -0.09524986147880554, -0.01599949039518833, -0.04232336953282356, -0.05634252354502678, 0.06316591054201126, -0.037915706634521484, 0.04628363996744156, -0.06296512484550476, -0.015917299315333366, -0.005864487029612064, -0.00953782070428133, -0.061120182275772095, -0.015004205517470837, -0.009142686612904072, -0.006896272301673889, -0.0645994246006012, 0.07641439139842987, -0.0017815004102885723, 0.0031068914104253054, -1.9276686913372032e-08, -0.00463187787681818, -0.04646836966276169, -0.02266095206141472, -0.00982621405273676, -0.0016267008613795042, 0.09877357631921768, 0.06269843876361847, -0.006407445762306452, -0.013424455188214779, -0.00670605106279254, 0.0984167605638504, 0.03849989175796509, -0.046383608132600784, 0.025552187114953995, 0.055112678557634354, 0.005252684000879526, 0.032248884439468384, -0.02419588714838028, -0.018013404682278633, 0.03520986810326576, -0.014104900881648064, 0.014930480159819126, 0.02725670114159584, 0.04300094395875931, 0.02543802745640278, -0.00876439455896616, 0.058509185910224915, 0.0013316714903339744, -0.0020724462810903788, 0.06768020242452621, 0.03669283166527748, 0.09543077647686005, 0.00660701235756278, 0.038293756544589996, 0.010596825741231441, -0.013562332838773727, 0.04382915422320366, -0.08647023886442184, 0.07346155494451523, -0.08472345769405365, 0.006884493865072727, 0.04368177428841591, -0.047491028904914856, 0.12220688164234161, -0.03914933651685715, -0.02970421127974987, 0.015008825808763504, -0.018745578825473785, -0.03488253429532051, 0.002223763382062316, 0.009767835028469563, 0.01014777272939682, 0.06328481435775757, 0.01691228710114956, 0.03176770359277725, -0.029212087392807007, -0.0270066075026989, -0.02908264845609665, -0.04846988618373871, -0.046379510313272476, 0.015371443703770638, -0.02862599492073059, 0.04397182539105415, -0.10501021891832352]\n"
     ]
    }
   ],
   "source": [
    "embedding  = model.encode(\"This is a sentence\")\n",
    "print(embedding.tolist())\n",
    "# pinecone.create_index('ocr-text',dimension=384)"
   ]
  },
  {
   "cell_type": "code",
   "execution_count": 95,
   "metadata": {},
   "outputs": [
    {
     "data": {
      "text/plain": [
       "151"
      ]
     },
     "execution_count": 95,
     "metadata": {},
     "output_type": "execute_result"
    }
   ],
   "source": [
    "index = pinecone.Index('ocr-text')\n",
    "id = index.describe_index_stats()['total_vector_count']\n",
    "id"
   ]
  },
  {
   "cell_type": "code",
   "execution_count": 57,
   "metadata": {},
   "outputs": [],
   "source": [
    "# client = chromadb.Client()\n",
    "# collection = client.create_collection(\"ocr-project\")"
   ]
  },
  {
   "cell_type": "code",
   "execution_count": 96,
   "metadata": {},
   "outputs": [
    {
     "name": "stderr",
     "output_type": "stream",
     "text": [
      "300it [03:07,  1.60it/s]\n"
     ]
    }
   ],
   "source": [
    "questions_list = []\n",
    "for i, row in tqdm(df.iterrows()):\n",
    "    vector_id = str(id + i)\n",
    "    questions_list.append(\n",
    "        (\n",
    "            vector_id,\n",
    "            model.encode(row['OCR Text']).tolist(),\n",
    "            {\n",
    "                \n",
    "                'OCR_Text': row['OCR Text'],\n",
    "                'category': row['File Category']\n",
    "            }\n",
    "        )\n",
    "    )\n",
    "\n",
    "    index.upsert(vectors = questions_list)\n"
   ]
  },
  {
   "cell_type": "code",
   "execution_count": null,
   "metadata": {},
   "outputs": [],
   "source": []
  },
  {
   "cell_type": "code",
   "execution_count": 58,
   "metadata": {},
   "outputs": [
    {
     "name": "stderr",
     "output_type": "stream",
     "text": [
      "151it [00:11, 13.56it/s]\n"
     ]
    }
   ],
   "source": [
    "# for i, row in tqdm(df.iterrows()):\n",
    "#     collection.add(\n",
    "#         documents=[row['OCR Text']],\n",
    "#         metadatas=[{'category':row['File Category']}],\n",
    "#         ids=[str(i)]\n",
    "\n",
    "#     )"
   ]
  },
  {
   "cell_type": "code",
   "execution_count": 59,
   "metadata": {},
   "outputs": [],
   "source": [
    "# with open('ocr_result.txt', 'r') as file:\n",
    "#     ocr_text = file.read()\n",
    "results = collection.query(\n",
    "    query_texts=[ocr_text],\n",
    "    n_results=1\n",
    ")"
   ]
  },
  {
   "cell_type": "code",
   "execution_count": 60,
   "metadata": {},
   "outputs": [
    {
     "data": {
      "text/plain": [
       "{'ids': [['127']],\n",
       " 'embeddings': None,\n",
       " 'documents': [['CURRICULUM VITAE\\n\\nNAME: RUDOLF EDMOND NOBLE\\nDATE OF BIRTH: July 8, 1933\\nEDUCATION:\\n\\nB.S., University of California, Berkeley ‘california,\\n. (organic Chemistry) 1953.\\n\\nPh.D. ,University of Colorado, Boulder, Colorado :\\n» ° (Organic Chemistry) 1956 ‘s “\\nE.I. du Pont de Nemours & Co., Ince, |v p\\n; Pre-Doctoral Fellow. «= port a sti\\n\\nM.D., Western Reserve University, Cleveland, Onto, 1963.\\n\\nStraight Medical Internship, University of California ieee\\nHospital, San Francisco, 1963-1964.\\n\\nguntor Assistant Medical Residency, Stanford Hospitals,\\nPalo Alto, California, 1964 -1965.\\n\\nRESEARCH EXPERIENCE: i : ‘\\n1956-57: Fulbright post-Doctoral Research Petiow, 2\\n. University of Heidelberg, Heidelberg, Germany,\\n\\n1957-59: Research Chemist, California Research Conp+, 3\\nRichmond, California. : ad\\n\\n1959-63: Research Fellow in Meéicine, Western Reserve\\nUniversity, Cleveland, Ohlo.\\n\\n1965-67: Research Fellow in Medicine, University of\\nGsiifornia Hospital, San Francieco, California,\\nLeukemia Society.\\n\\n1967-to date: Clinical Instructor in Neeteine,\\n‘igiversity of California Hospital, S,F., Calif,\\n\\n1967-to date: Private Practice.\\n\\n']],\n",
       " 'metadatas': [[{'category': 'resume'}]],\n",
       " 'distances': [[0.07728037238121033]]}"
      ]
     },
     "execution_count": 60,
     "metadata": {},
     "output_type": "execute_result"
    }
   ],
   "source": [
    "results"
   ]
  },
  {
   "cell_type": "code",
   "execution_count": 61,
   "metadata": {},
   "outputs": [
    {
     "name": "stdout",
     "output_type": "stream",
     "text": [
      "resume\n"
     ]
    }
   ],
   "source": [
    "category = results['metadatas'][0][0]['category']\n",
    "print(category)"
   ]
  },
  {
   "cell_type": "code",
   "execution_count": null,
   "metadata": {},
   "outputs": [],
   "source": [
    "import json\n",
    "with open('category.txt', 'w') as file:\n",
    "    json.dump(category, file)"
   ]
  },
  {
   "cell_type": "code",
   "execution_count": 62,
   "metadata": {},
   "outputs": [
    {
     "name": "stdout",
     "output_type": "stream",
     "text": [
      "Defaulting to user installation because normal site-packages is not writeableNote: you may need to restart the kernel to use updated packages.\n",
      "\n",
      "Collecting pinecone-client\n",
      "  Downloading pinecone_client-2.2.2-py3-none-any.whl (179 kB)\n",
      "                                              0.0/179.1 kB ? eta -:--:--\n",
      "     ------                                   30.7/179.1 kB ? eta -:--:--\n",
      "     --------------------                    92.2/179.1 kB 1.0 MB/s eta 0:00:01\n",
      "     ------------------------------         143.4/179.1 kB 1.1 MB/s eta 0:00:01\n",
      "     -------------------------------------- 179.1/179.1 kB 1.1 MB/s eta 0:00:00\n",
      "Requirement already satisfied: requests>=2.19.0 in c:\\users\\91810\\appdata\\roaming\\python\\python311\\site-packages (from pinecone-client) (2.31.0)\n",
      "Requirement already satisfied: pyyaml>=5.4 in c:\\users\\91810\\appdata\\roaming\\python\\python311\\site-packages (from pinecone-client) (6.0)\n",
      "Collecting loguru>=0.5.0 (from pinecone-client)\n",
      "  Downloading loguru-0.7.0-py3-none-any.whl (59 kB)\n",
      "                                              0.0/60.0 kB ? eta -:--:--\n",
      "     ---------------------------------------- 60.0/60.0 kB 1.6 MB/s eta 0:00:00\n",
      "Requirement already satisfied: typing-extensions>=3.7.4 in c:\\users\\91810\\appdata\\roaming\\python\\python311\\site-packages (from pinecone-client) (4.6.3)\n",
      "Collecting dnspython>=2.0.0 (from pinecone-client)\n",
      "  Downloading dnspython-2.3.0-py3-none-any.whl (283 kB)\n",
      "                                              0.0/283.7 kB ? eta -:--:--\n",
      "     --------                                61.4/283.7 kB 1.7 MB/s eta 0:00:01\n",
      "     ----------------                       122.9/283.7 kB 1.8 MB/s eta 0:00:01\n",
      "     ------------------------------         225.3/283.7 kB 1.7 MB/s eta 0:00:01\n",
      "     -------------------------------------- 283.7/283.7 kB 1.6 MB/s eta 0:00:00\n",
      "Requirement already satisfied: python-dateutil>=2.5.3 in c:\\users\\91810\\appdata\\roaming\\python\\python311\\site-packages (from pinecone-client) (2.8.2)\n",
      "Requirement already satisfied: urllib3>=1.21.1 in c:\\users\\91810\\appdata\\roaming\\python\\python311\\site-packages (from pinecone-client) (2.0.3)\n",
      "Requirement already satisfied: tqdm>=4.64.1 in c:\\users\\91810\\appdata\\roaming\\python\\python311\\site-packages (from pinecone-client) (4.65.0)\n",
      "Requirement already satisfied: numpy>=1.22.0 in c:\\users\\91810\\appdata\\roaming\\python\\python311\\site-packages (from pinecone-client) (1.24.3)\n",
      "Requirement already satisfied: colorama>=0.3.4 in c:\\users\\91810\\appdata\\roaming\\python\\python311\\site-packages (from loguru>=0.5.0->pinecone-client) (0.4.6)\n",
      "Collecting win32-setctime>=1.0.0 (from loguru>=0.5.0->pinecone-client)\n",
      "  Downloading win32_setctime-1.1.0-py3-none-any.whl (3.6 kB)\n",
      "Requirement already satisfied: six>=1.5 in c:\\users\\91810\\appdata\\roaming\\python\\python311\\site-packages (from python-dateutil>=2.5.3->pinecone-client) (1.16.0)\n",
      "Requirement already satisfied: charset-normalizer<4,>=2 in c:\\users\\91810\\appdata\\roaming\\python\\python311\\site-packages (from requests>=2.19.0->pinecone-client) (3.1.0)\n",
      "Requirement already satisfied: idna<4,>=2.5 in c:\\users\\91810\\appdata\\roaming\\python\\python311\\site-packages (from requests>=2.19.0->pinecone-client) (3.4)\n",
      "Requirement already satisfied: certifi>=2017.4.17 in c:\\users\\91810\\appdata\\roaming\\python\\python311\\site-packages (from requests>=2.19.0->pinecone-client) (2023.5.7)\n",
      "Installing collected packages: win32-setctime, dnspython, loguru, pinecone-client\n",
      "Successfully installed dnspython-2.3.0 loguru-0.7.0 pinecone-client-2.2.2 win32-setctime-1.1.0\n"
     ]
    }
   ],
   "source": [
    "pip install pinecone-client\n"
   ]
  },
  {
   "cell_type": "code",
   "execution_count": null,
   "metadata": {},
   "outputs": [],
   "source": []
  }
 ],
 "metadata": {
  "kernelspec": {
   "display_name": "venv",
   "language": "python",
   "name": "python3"
  },
  "language_info": {
   "codemirror_mode": {
    "name": "ipython",
    "version": 3
   },
   "file_extension": ".py",
   "mimetype": "text/x-python",
   "name": "python",
   "nbconvert_exporter": "python",
   "pygments_lexer": "ipython3",
   "version": "3.11.4"
  },
  "orig_nbformat": 4
 },
 "nbformat": 4,
 "nbformat_minor": 2
}
